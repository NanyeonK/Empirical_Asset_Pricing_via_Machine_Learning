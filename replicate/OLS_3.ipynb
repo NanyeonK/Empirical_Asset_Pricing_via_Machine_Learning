{
 "cells": [
  {
   "cell_type": "code",
   "execution_count": null,
   "metadata": {},
   "outputs": [],
   "source": [
    "import numpy as np\n",
    "import pandas as pd\n",
    "import math\n",
    "import sklearn\n",
    "import datetime\n",
    "import os\n",
    "import matplotlib.pyplot as plt\n",
    "import sklearn.linear_model as lm\n",
    "from sklearn.linear_model import HuberRegressor\n",
    "import warnings\n",
    "import seaborn as sns"
   ]
  },
  {
   "cell_type": "code",
   "execution_count": null,
   "metadata": {},
   "outputs": [],
   "source": [
    "df = pd.read_csv('data/OLS_3.csv')\n",
    "\n",
    "df.head()"
   ]
  },
  {
   "cell_type": "markdown",
   "metadata": {},
   "source": [
    "Rank standardization in inreval[-1. 1]\n",
    "\n",
    "A rank standardization procedure following Kelly, Pruitt, and Su (2019) and Freyberger, Neuhierl and Weber(2020) is employed.\n",
    "The stock characteristics are ranked month-by-month cross-sectionally and the ranks are mapped into the [-1, 1], thereby transforming features into a uniform distribution and increasing the insensitivity to outriers."
   ]
  },
  {
   "cell_type": "code",
   "execution_count": null,
   "metadata": {},
   "outputs": [],
   "source": [
    "#Standardizze all independent variables\n",
    "features = df.columns[~df.columns.isin([])]\n",
    "\n",
    "#Ranks in [0,1] interval\n",
    "df[features]=df.groupby()[features].rank(pct=True)\n",
    "\n",
    "#multiply by 2 and substact 1 to get ranks in interval[-1, 1]\n",
    "df[features] = 2*df[features] - 1"
   ]
  },
  {
   "cell_type": "markdown",
   "metadata": {},
   "source": [
    "All Firms"
   ]
  },
  {
   "cell_type": "code",
   "execution_count": null,
   "metadata": {},
   "outputs": [],
   "source": [
    "# Define the splitting scheme:\n",
    "# Rolling window  train-val-test split\n",
    "# The rolling window is set to 96 months (8 years)\n",
    "# 5 years for training, 2 years for validation, and 1 year for out-of-samlpe testing\n",
    "tcv = TimeBasedCV(\n",
    "    \n",
    ")"
   ]
  }
 ],
 "metadata": {
  "language_info": {
   "name": "python"
  },
  "orig_nbformat": 4
 },
 "nbformat": 4,
 "nbformat_minor": 2
}
