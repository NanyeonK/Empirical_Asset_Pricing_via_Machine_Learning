{
 "cells": [
  {
   "cell_type": "code",
   "execution_count": null,
   "metadata": {},
   "outputs": [],
   "source": [
    "import numpy as np\n",
    "import pandas as pd\n",
    "import math\n",
    "import sklearn\n",
    "import sklearn.preprocessing\n",
    "import datetime\n",
    "import os\n",
    "import matplotlib.pyplot as plt\n",
    "from sklearn.linear_model import HuberRegressor\n",
    "import warnings\n",
    "warnings.simplefilter(action='ignore', category=Warning)\n",
    "import seaborn as sns\n",
    "sns.set()\n",
    "pd.options.mode.chained_assignment = None  # default='warn'\n",
    "\n",
    "#Program that executes the rolling window train-val-test split \n",
    "%run TimeBasedCV.ipynb"
   ]
  },
  {
   "cell_type": "code",
   "execution_count": null,
   "metadata": {},
   "outputs": [],
   "source": [
    "#Read in the cleansed and winsorised data\n",
    "df = pd.read_csv(r\"C:\\Users\\krist\\Documents\\Data\\ger_factor_data_from2003.csv\", dtype ={\"comp_tpci\": str}, parse_dates =[\"eom\"])\n",
    "#Convert to float 32 (format needed for the most ML models)\n",
    "df[df.columns[2:]] = df[df.columns[2:]].astype('float32')\n",
    "#Sort observations by date and stock id\n",
    "df = df.sort_values(by = ['DATE', 'permno'], ascending = True)\n",
    "df.head()"
   ]
  }
 ],
 "metadata": {
  "language_info": {
   "name": "python"
  },
  "orig_nbformat": 4
 },
 "nbformat": 4,
 "nbformat_minor": 2
}
