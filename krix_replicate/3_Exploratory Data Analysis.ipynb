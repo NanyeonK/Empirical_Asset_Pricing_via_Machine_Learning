{
 "cells": [
  {
   "cell_type": "code",
   "execution_count": null,
   "metadata": {},
   "outputs": [],
   "source": [
    "import numpy as np\n",
    "import pandas as pd\n",
    "import math\n",
    "import sklearn\n",
    "import sklearn.preprocessing\n",
    "import datetime\n",
    "import matplotlib.pyplot as plt\n",
    "from statsmodels.graphics.tsaplots import plot_acf\n",
    "import seaborn as sns \n",
    "sns.set()\n",
    "%matplotlib inline\n",
    "from collections import Counter\n",
    "import warnings\n",
    "warnings.simplefilter(action='ignore', category=Warning)\n",
    "import seaborn as sns\n",
    "sns.set()\n",
    "pd.options.mode.chained_assignment = None  # default='warn'\n",
    "\n",
    "from statsmodels.distributions.empirical_distribution import ECDF\n",
    "from sklearn.metrics import mean_squared_error, r2_score"
   ]
  },
  {
   "cell_type": "code",
   "execution_count": null,
   "metadata": {},
   "outputs": [],
   "source": [
    "#Read in the cleansed and winsorised data\n",
    "df = pd.read_csv(r\".\\ger_factor_data_from2003.csv\", dtype ={\"comp_tpci\": str}, parse_dates =[\"eom\"])\n",
    "#Convert to float 32 (format needed for the most ML models)\n",
    "df[df.columns[2:]] = df[df.columns[2:]].astype('float32')\n",
    "#Sort observations by date and stock id\n",
    "df = df.sort_values(by = ['DATE', 'permno'], ascending = True)\n",
    "df.head()"
   ]
  },
  {
   "cell_type": "code",
   "execution_count": null,
   "metadata": {},
   "outputs": [],
   "source": [
    "# The observation period contains 204 months in the period from 01.2003 to 12.2019'\n",
    "# The last year is not uesed since we dont have the lead excess return  \"ret_exc_lead1m\" for January 2021 and we\n",
    "# use 1 year for testing\n",
    "df_2 = df[~(df['DATE'] >= '1957-03-31')]\n",
    "print(\"Number of months: \", df_2[\"DATE\"].nunique())\n",
    "print(\"Start: \", df_2[\"DATE\"].min())\n",
    "print(\"End: \", df_2[\"DATE\"].max())"
   ]
  },
  {
   "cell_type": "code",
   "execution_count": null,
   "metadata": {},
   "outputs": [],
   "source": [
    "#number of unique stocks\n",
    "print(\"Number of unique stcocks: \", df_2[\"permno\"].nunique())"
   ]
  },
  {
   "cell_type": "code",
   "execution_count": null,
   "metadata": {},
   "outputs": [],
   "source": [
    "#Inspect variable types\n",
    "df_2.info(verbose=True)"
   ]
  },
  {
   "cell_type": "code",
   "execution_count": null,
   "metadata": {},
   "outputs": [],
   "source": [
    "#Number of stocks at each month; \n",
    "Number_stocks_per_month = Counter(df_2['DATE'])\n",
    "Number_stocks_per_month= pd.DataFrame(Number_stocks_per_month.items(), columns=['Date', 'Numer_of_Stocks'])\n",
    "print(\"Minimum number of stocks pre month: \", Number_stocks_per_month[\"Numer_of_Stocks\"].min())\n",
    "print(\"Maximum number of stocks pre month: \", Number_stocks_per_month[\"Numer_of_Stocks\"].max())\n",
    "print(\"Mean number of stocks pre month: \", Number_stocks_per_month[\"Numer_of_Stocks\"].mean())\n",
    "Number_stocks_per_month.plot(x='Date', y='Numer_of_Stocks',grid=True,figsize=(15, 7));"
   ]
  },
  {
   "cell_type": "markdown",
   "metadata": {},
   "source": [
    "### Descriptive Statistics of the chracteristics"
   ]
  },
  {
   "cell_type": "markdown",
   "metadata": {},
   "source": [
    "\n",
    "#We are interested in the descriptive statistics of all 49 stock level characteristics and the target variable (ret_exc_lead1m)\n",
    "features = df.columns[~df.columns.isin(['id',\"prc\",\"eom\",\"ret\", \"ret_exc\"])].tolist()"
   ]
  },
  {
   "cell_type": "code",
   "execution_count": null,
   "metadata": {},
   "outputs": [],
   "source": [
    "descriptive_statistics = df_2[features].describe()\n",
    "descriptive_statistics"
   ]
  },
  {
   "cell_type": "markdown",
   "metadata": {},
   "source": [
    "### Distribution of each feature"
   ]
  },
  {
   "cell_type": "code",
   "execution_count": null,
   "metadata": {},
   "outputs": [],
   "source": [
    "\n",
    "fig, ax = plt.subplots()\n",
    "fig.set_figheight(30)\n",
    "fig.set_figwidth(30)\n",
    "df[features].hist(layout=(-1, 3), bins=np.linspace(-1,1,50), ax=ax);"
   ]
  },
  {
   "cell_type": "markdown",
   "metadata": {},
   "source": [
    "### Distribution of portfolio returns"
   ]
  },
  {
   "cell_type": "code",
   "execution_count": null,
   "metadata": {},
   "outputs": [],
   "source": [
    "from matplotlib.pylab import rcParams\n",
    "rcParams['figure.figsize'] = 15, 6\n",
    "df_3 = df_2[[\"ret\"]]\n",
    "df_3 = df_3.rename(columns={'ret': 'Stock return'})\n",
    "sns.histplot(data = df_3, x =\"Stock return\", binwidth = 0.01, binrange = (df_3[\"Stock return\"].min()+ 0.00000000001, df_3[\"Stock return\"].max()- 0.01))\n",
    "plt.savefig('returns_distrubution.png')"
   ]
  },
  {
   "cell_type": "markdown",
   "metadata": {},
   "source": [
    "### Distribution of firm size"
   ]
  },
  {
   "cell_type": "code",
   "execution_count": null,
   "metadata": {},
   "outputs": [],
   "source": [
    "from matplotlib.pylab import rcParams\n",
    "rcParams['figure.figsize'] = 15, 10\n",
    "sns.histplot(data = df_2, x =\"me\", binrange = (0,15000))\n",
    "plt.savefig('size_distrubution.png')"
   ]
  },
  {
   "cell_type": "markdown",
   "metadata": {},
   "source": [
    "### Equally weighted portfolio monthly returns over time"
   ]
  },
  {
   "cell_type": "code",
   "execution_count": null,
   "metadata": {},
   "outputs": [],
   "source": [
    "#retain only return data over time\n",
    "ret_data = df_2[[\"ret\", \"permno\", \"DATE\"]]\n",
    "#create equal weights\n",
    "ret_data[\"eq_weights\"] = 1/ret_data.groupby('DATE')[\"permno\"].transform('size')\n",
    "#calculate montly return of the equally weighted portfolio contaning all stocks\n",
    "ret_data['return_stock_ew'] = ret_data[\"ret\"]*ret_data[\"eq_weights\"]\n",
    "ret_data['Returns'] = ret_data.groupby('eom')[\"return_stock_ew\"].transform('sum')\n",
    "#drop duplicates \n",
    "ret_data = ret_data[[\"eom\", \"Returns\"]].drop_duplicates()\n",
    "#rename eon (end of month) to \"date\"\n",
    "ret_data = ret_data.rename(columns={'DATE': 'Date'})\n",
    "ret_data = ret_data.set_index(\"Date\")\n",
    "#plot the portfolio returns over time\n",
    "ret_data.plot(grid=True,figsize=(15, 7));\n",
    "#save grapgh\n",
    "plt.savefig('portfolio monthly returns over time.png')"
   ]
  },
  {
   "cell_type": "markdown",
   "metadata": {},
   "source": [
    "### Portfolio autocorrelation graph"
   ]
  },
  {
   "cell_type": "code",
   "execution_count": null,
   "metadata": {},
   "outputs": [],
   "source": [
    "\n",
    "plot_acf(ret_data)\n",
    "# Show the data as a plot (via matplotlib)\n",
    "plt.show()\n",
    "plt.savefig('Portfolio autocorrelation graph.png')"
   ]
  },
  {
   "cell_type": "markdown",
   "metadata": {},
   "source": [
    "### Variable Correlation Heatmap"
   ]
  },
  {
   "cell_type": "code",
   "execution_count": null,
   "metadata": {},
   "outputs": [],
   "source": [
    "features = df.columns[~df.columns.isin(['permno',\"prc\",\"DATE\",\"ret\",\"ret_exc\"])].tolist()\n",
    "plt.figure(figsize = (18,18))\n",
    "sns.heatmap(data=df_2[features].corr())\n",
    "plt.title('Correlation Heatmap')\n",
    "plt.savefig('Correlation Heatmap.png')\n",
    "plt.show()\n",
    "plt.gcf().clear()"
   ]
  },
  {
   "cell_type": "code",
   "execution_count": null,
   "metadata": {},
   "outputs": [],
   "source": [
    "pd.set_option(\"display.max_rows\", None, \"display.max_columns\", None)\n",
    "c = df_2[features].corr().abs()\n",
    "s = c.unstack()\n",
    "so = s.sort_values(kind=\"quicksort\").reset_index()\n",
    "so.columns = ['Variable 1','Variable 2', 'corr']\n",
    "so = so.sort_values(by = ['corr', 'Variable 1'], ascending = False)\n",
    "so = so[so['corr']!=1]\n",
    "so = so.iloc[::2].reset_index(drop=True)\n",
    "so"
   ]
  },
  {
   "cell_type": "code",
   "execution_count": null,
   "metadata": {},
   "outputs": [],
   "source": [
    "\n",
    "corr_df.to_excel(r'\\Data\\EDA\\target_correlation.xlsx')"
   ]
  }
 ],
 "metadata": {
  "language_info": {
   "name": "python"
  },
  "orig_nbformat": 4
 },
 "nbformat": 4,
 "nbformat_minor": 2
}
