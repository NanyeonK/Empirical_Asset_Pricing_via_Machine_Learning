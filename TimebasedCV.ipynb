{
 "cells": [
  {
   "cell_type": "code",
   "execution_count": null,
   "metadata": {},
   "outputs": [],
   "source": [
    "import pandas as pd\n",
    "import numpy as np\n",
    "from datetime import datetime as dt\n",
    "from dateutil.relativedelta import *"
   ]
  },
  {
   "cell_type": "code",
   "execution_count": null,
   "metadata": {},
   "outputs": [],
   "source": [
    "class TimeBasedCV(object):\n",
    "    \"\"\"\n",
    "    Time based cross validation class\n",
    "    \n",
    "    Parameters\n",
    "    ----------\n",
    "    train_period : int\n",
    "        The number of time units to incude in each train set\n",
    "        default: 30\n",
    "    test_period : int\n",
    "        The number of time units to incude in each test set\n",
    "        default: 7\n",
    "    freq : str\n",
    "        The frequency of input parameters. possible values are year, months, days,  weeks, hours, minutes, seconds\n",
    "        default: 'days'\n",
    "    \"\"\"\n",
    "    \n",
    "    def __init__(self, train_period=30, val_period=7, test_period=7, freq='days'):\n",
    "        self.train_period = train_period\n",
    "        self.val_period = val_period\n",
    "        self.test_period = test_period\n",
    "        self.freq = freq\n",
    "        \n",
    "    def split(self, data, validation_split_data, second_split_data, date_column, gap='0'):\n",
    "        \"\"\"\n",
    "        Generate indices to split data into training and test set\n",
    "\n",
    "        Parameters\n",
    "        ----------\n",
    "        data: pandas Dataframe\n",
    "            your data, contain one column for the recodrd date\n",
    "        validation_split data: datetime.date()\n",
    "            first date to perform the splitting on.\n",
    "            if not provided will set to be the minimum date in the data after the first training set\n",
    "        date_column: str\n",
    "            date of each record\n",
    "        gap: int, default=0\n",
    "            for cases the test set does not come right after the rain set\n",
    "            gap days are left between train and test sets\n",
    "        \n",
    "        Returns\n",
    "        -------\n",
    "        train_index, test_index:\n",
    "            list of tuples (train index, test index) similar to sklearn model selection\n",
    "        \"\"\"\n",
    "        \n",
    "        #check that date_column exist in the data\n",
    "        try:\n",
    "            data[date_column]  \n",
    "        except:\n",
    "            raise ValueError('date_column not found in the data')\n",
    "        \n",
    "        train_indices_list =[]\n",
    "        valid_indicies_list = []\n",
    "        test_indicies_list = []\n",
    "        \n",
    "        start_train = first_split_date - eval('relativedelta')"
   ]
  }
 ],
 "metadata": {
  "language_info": {
   "name": "python"
  },
  "orig_nbformat": 4
 },
 "nbformat": 4,
 "nbformat_minor": 2
}
